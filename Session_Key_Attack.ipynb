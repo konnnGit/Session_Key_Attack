{
  "nbformat": 4,
  "nbformat_minor": 0,
  "metadata": {
    "colab": {
      "provenance": [],
      "authorship_tag": "ABX9TyObK85Q/7kY21j1fnNhYsRS",
      "include_colab_link": true
    },
    "kernelspec": {
      "name": "python3",
      "display_name": "Python 3"
    },
    "language_info": {
      "name": "python"
    }
  },
  "cells": [
    {
      "cell_type": "markdown",
      "metadata": {
        "id": "view-in-github",
        "colab_type": "text"
      },
      "source": [
        "<a href=\"https://colab.research.google.com/github/konnnGit/Session_Key_Attack/blob/main/Session_Key_Attack.ipynb\" target=\"_parent\"><img src=\"https://colab.research.google.com/assets/colab-badge.svg\" alt=\"Open In Colab\"/></a>"
      ]
    },
    {
      "cell_type": "code",
      "execution_count": null,
      "metadata": {
        "id": "4CshAI8YLEWI",
        "colab": {
          "base_uri": "https://localhost:8080/",
          "height": 387
        },
        "outputId": "decbb65f-fef9-44bd-8ee1-eede6191d2bb"
      },
      "outputs": [
        {
          "output_type": "error",
          "ename": "ModuleNotFoundError",
          "evalue": "No module named 'Crypto'",
          "traceback": [
            "\u001b[0;31m---------------------------------------------------------------------------\u001b[0m",
            "\u001b[0;31mModuleNotFoundError\u001b[0m                       Traceback (most recent call last)",
            "\u001b[0;32m<ipython-input-5-b69fcf94552b>\u001b[0m in \u001b[0;36m<cell line: 7>\u001b[0;34m()\u001b[0m\n\u001b[1;32m      5\u001b[0m \u001b[0;32mfrom\u001b[0m \u001b[0msklearn\u001b[0m\u001b[0;34m.\u001b[0m\u001b[0mmetrics\u001b[0m \u001b[0;32mimport\u001b[0m \u001b[0maccuracy_score\u001b[0m\u001b[0;34m\u001b[0m\u001b[0;34m\u001b[0m\u001b[0m\n\u001b[1;32m      6\u001b[0m \u001b[0;32mimport\u001b[0m \u001b[0mnumpy\u001b[0m \u001b[0;32mas\u001b[0m \u001b[0mnp\u001b[0m\u001b[0;34m\u001b[0m\u001b[0;34m\u001b[0m\u001b[0m\n\u001b[0;32m----> 7\u001b[0;31m \u001b[0;32mfrom\u001b[0m \u001b[0mCrypto\u001b[0m\u001b[0;34m.\u001b[0m\u001b[0mCipher\u001b[0m \u001b[0;32mimport\u001b[0m \u001b[0mAES\u001b[0m\u001b[0;34m\u001b[0m\u001b[0;34m\u001b[0m\u001b[0m\n\u001b[0m\u001b[1;32m      8\u001b[0m \u001b[0;32mfrom\u001b[0m \u001b[0mCrypto\u001b[0m\u001b[0;34m.\u001b[0m\u001b[0mUtil\u001b[0m\u001b[0;34m.\u001b[0m\u001b[0mPadding\u001b[0m \u001b[0;32mimport\u001b[0m \u001b[0mpad\u001b[0m\u001b[0;34m\u001b[0m\u001b[0;34m\u001b[0m\u001b[0m\n\u001b[1;32m      9\u001b[0m \u001b[0;32mfrom\u001b[0m \u001b[0mCrypto\u001b[0m\u001b[0;34m.\u001b[0m\u001b[0mRandom\u001b[0m \u001b[0;32mimport\u001b[0m \u001b[0mget_random_bytes\u001b[0m\u001b[0;34m\u001b[0m\u001b[0;34m\u001b[0m\u001b[0m\n",
            "\u001b[0;31mModuleNotFoundError\u001b[0m: No module named 'Crypto'",
            "",
            "\u001b[0;31m---------------------------------------------------------------------------\u001b[0;32m\nNOTE: If your import is failing due to a missing package, you can\nmanually install dependencies using either !pip or !apt.\n\nTo view examples of installing some common dependencies, click the\n\"Open Examples\" button below.\n\u001b[0;31m---------------------------------------------------------------------------\u001b[0m\n"
          ],
          "errorDetails": {
            "actions": [
              {
                "action": "open_url",
                "actionText": "Open Examples",
                "url": "/notebooks/snippets/importing_libraries.ipynb"
              }
            ]
          }
        }
      ],
      "source": [
        "from sklearn.model_selection import train_test_split\n",
        "from sklearn.ensemble import RandomForestClassifier\n",
        "from sklearn.neural_network import MLPClassifier\n",
        "from sklearn.svm import SVC\n",
        "from sklearn.metrics import accuracy_score\n",
        "import numpy as np\n",
        "from Crypto.Cipher import AES\n",
        "from Crypto.Util.Padding import pad\n",
        "from Crypto.Random import get_random_bytes\n",
        "\n",
        "# Encrypt a plaintext with a given key and random IV\n",
        "def encrypt_message(key, plaintext):\n",
        "    cipher = AES.new(key, AES.MODE_CBC)\n",
        "    ciphertext = cipher.encrypt(pad(plaintext, AES.block_size))\n",
        "    return ciphertext\n",
        "\n",
        "# Generate a dataset with variability\n",
        "def generate_dataset(size, keys, plaintexts):\n",
        "    features = []\n",
        "    labels = []\n",
        "    for _ in range(size):\n",
        "        key = np.random.choice(keys)  # Randomly select a key\n",
        "        plaintext = np.random.choice(plaintexts)  # Randomly select a plaintext\n",
        "        ciphertext = encrypt_message(key, plaintext)\n",
        "        features.append(list(ciphertext[:16]))  # Use the first 16 bytes as features\n",
        "        labels.append(hash(key) % 10)  # Group labels by key hash\n",
        "    return features, labels\n",
        "\n",
        "# Parameters\n",
        "keys = [get_random_bytes(16) for _ in range(2)]  # 5 random keys\n",
        "plaintexts = [b\"REQUEST CLIMB TO FL370\", b\"UNABLE DUE TO TRAFFIC\",  b\"CLIMB TO AND MAINTAIN FL270\", b\"REPORT LEVEL FL270\",b\"REQUEST DIVE TO FL200\",  b\"DIVE TO AND MAINTAIN FL200\"]  # 4 plaintexts\n",
        "\n",
        "# Generate dataset\n",
        "features, labels = generate_dataset(50, keys, plaintexts)\n",
        "#print (features, labels)\n",
        "# Train-test split\n",
        "X_train, X_test, y_train, y_test = train_test_split(features, labels, test_size=0.2, random_state=42)\n",
        "\n",
        "# Train Random Forest model\n",
        "model = RandomForestClassifier()\n",
        "model.fit(X_train, y_train)\n",
        "\n",
        "# Predict and evaluate\n",
        "y_pred = model.predict(X_test)\n",
        "accuracy = accuracy_score(y_test, y_pred)\n",
        "print(\"Random Forest Accuracy:\", accuracy)\n",
        "\n",
        "\n",
        "nn_model = MLPClassifier(hidden_layer_sizes=(100, 50), max_iter=500)\n",
        "nn_model.fit(X_train, y_train)\n",
        "y_pred_nn = nn_model.predict(X_test)\n",
        "print(\"Neural Network Accuracy:\", accuracy_score(y_test, y_pred_nn))\n",
        "\n",
        "\n",
        "\n",
        "#svm_model = SVC(kernel='rbf')\n",
        "#svm_model.fit(X_train, y_train)\n",
        "#y_pred_svm = svm_model.predict(X_test)\n",
        "#print(\"SVM Accuracy:\", accuracy_score(y_test, y_pred_svm))"
      ]
    },
    {
      "cell_type": "markdown",
      "source": [],
      "metadata": {
        "id": "DvNTBFG0PGCu"
      }
    },
    {
      "cell_type": "code",
      "source": [
        "!pip install crypto.cipher"
      ],
      "metadata": {
        "colab": {
          "base_uri": "https://localhost:8080/"
        },
        "id": "DrGjIU73PGjR",
        "outputId": "d65ceeb7-7b81-4c99-dd7e-298894b66617"
      },
      "execution_count": null,
      "outputs": [
        {
          "output_type": "stream",
          "name": "stdout",
          "text": [
            "\u001b[31mERROR: Could not find a version that satisfies the requirement crypto.cipher (from versions: none)\u001b[0m\u001b[31m\n",
            "\u001b[0m\u001b[31mERROR: No matching distribution found for crypto.cipher\u001b[0m\u001b[31m\n",
            "\u001b[0m"
          ]
        }
      ]
    }
  ]
}